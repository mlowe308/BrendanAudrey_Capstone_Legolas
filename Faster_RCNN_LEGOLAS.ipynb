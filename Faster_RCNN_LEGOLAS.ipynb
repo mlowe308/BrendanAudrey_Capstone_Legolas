{
  "cells": [
    {
      "cell_type": "markdown",
      "source": [
        "https://pseudo-lab.github.io/Tutorial-Book-en/chapters/en/object-detection/Ch5-Faster-R-CNN.html as a guide."
      ],
      "metadata": {
        "id": "E47JHWskNoMJ"
      }
    },
    {
      "cell_type": "code",
      "source": [
        "import os\n",
        "import numpy as np\n",
        "import matplotlib.patches as patches\n",
        "import matplotlib.pyplot as plt\n",
        "from bs4 import BeautifulSoup\n",
        "from PIL import Image\n",
        "import torchvision\n",
        "from torchvision import transforms, datasets, models\n",
        "from torchvision.models.detection.faster_rcnn import FastRCNNPredictor\n",
        "import time\n",
        "import torch\n",
        "import torch.utils.data\n",
        "import shutil\n",
        "import random"
      ],
      "metadata": {
        "id": "7QTHs9Yuk-O_"
      },
      "execution_count": 1,
      "outputs": []
    },
    {
      "cell_type": "code",
      "source": [
        "if torch.cuda.is_available():\n",
        "    device = torch.device(\"cuda\")\n",
        "    print('There are %d GPU(s) available.' % torch.cuda.device_count())\n",
        "    print('We will use the GPU:', torch.cuda.get_device_name(0))\n",
        "\n",
        "else:\n",
        "    print('No GPU available, using the CPU instead.')\n",
        "    device = torch.device(\"cpu\")"
      ],
      "metadata": {
        "id": "qiVeL6SKNnsZ",
        "colab": {
          "base_uri": "https://localhost:8080/"
        },
        "outputId": "b392a9a2-5a38-4f5e-d35f-a683e832a76b"
      },
      "execution_count": 2,
      "outputs": [
        {
          "output_type": "stream",
          "name": "stdout",
          "text": [
            "There are 1 GPU(s) available.\n",
            "We will use the GPU: NVIDIA L4\n"
          ]
        }
      ]
    },
    {
      "cell_type": "code",
      "source": [
        "\n",
        "annotation_path = '/content/drive/MyDrive/LEGOLAS split rewrite'\n",
        "image_path = '/content/drive/MyDrive/total'\n",
        "\n",
        "test_image_path = '/content/drive/MyDrive/test images'\n",
        "test_annotation_path = '/content/drive/MyDrive/test annotations'\n",
        "\n",
        "catch_empty_path = '/content/drive/MyDrive/zeroed'\n"
      ],
      "metadata": {
        "id": "2MdLAwbMkYNg"
      },
      "execution_count": 3,
      "outputs": []
    },
    {
      "cell_type": "code",
      "source": [
        "#reset directories\n",
        "for img in os.listdir(test_image_path):\n",
        "  shutil.move(os.path.join(test_image_path, img), os.path.join(image_path, img))\n",
        "\n",
        "for annot in os.listdir(test_annotation_path):\n",
        "  shutil.move(os.path.join(test_annotation_path, annot), os.path.join(annotation_path, annot))\n",
        "\n",
        "for empty in os.listdir(catch_empty_path):\n",
        "  if empty.endswith('.xml'):\n",
        "    shutil.move(os.path.join(catch_empty_path,empty) , os.path.join(annotation_path, empty))\n",
        "  else:\n",
        "    shutil.move(os.path.join(catch_empty_path,empty) , os.path.join(image_path, empty))"
      ],
      "metadata": {
        "id": "8nZgj98BDrPH"
      },
      "execution_count": 4,
      "outputs": []
    },
    {
      "cell_type": "code",
      "source": [
        "print(len(os.listdir(annotation_path)))\n",
        "print(len(os.listdir(image_path)))\n",
        "print(len(os.listdir(catch_empty_path)))"
      ],
      "metadata": {
        "colab": {
          "base_uri": "https://localhost:8080/"
        },
        "id": "14_HpoVb75Iv",
        "outputId": "84fb1627-071e-4b86-ca58-2f86bbc98494"
      },
      "execution_count": 5,
      "outputs": [
        {
          "output_type": "stream",
          "name": "stdout",
          "text": [
            "1728\n",
            "1728\n",
            "0\n"
          ]
        }
      ]
    },
    {
      "cell_type": "code",
      "source": [
        "for i in os.listdir(annotation_path):\n",
        "    with open(os.path.join(annotation_path, i)) as f:\n",
        "        data = f.read()\n",
        "    soup = BeautifulSoup(data, \"html.parser\")\n",
        "    objects = soup.find_all(\"object\")\n",
        "\n",
        "    num_objs = len(objects)\n",
        "\n",
        "    if num_objs < 1:\n",
        "      # remove from annotations and images\n",
        "      i_name = i.split('.')[0] + '.jpg'\n",
        "      shutil.move(os.path.join(image_path, i_name), os.path.join(catch_empty_path, i_name))\n",
        "      shutil.move(os.path.join(annotation_path, i), os.path.join(catch_empty_path, i))"
      ],
      "metadata": {
        "id": "j-y5FIOd2uRu"
      },
      "execution_count": 6,
      "outputs": []
    },
    {
      "cell_type": "code",
      "source": [
        "random.seed(1234)\n",
        "\n",
        "size_dataset = len(os.listdir(image_path))\n",
        "size_test = int(size_dataset * 0.2)\n",
        "\n",
        "idx = random.sample(range(size_dataset), size_test)\n",
        "\n",
        "for img in np.array(sorted(os.listdir(image_path)))[idx]:\n",
        "    shutil.move(os.path.join(image_path, img), os.path.join(test_image_path, img))"
      ],
      "metadata": {
        "id": "fsb7lrUkkgDG"
      },
      "execution_count": 7,
      "outputs": []
    },
    {
      "cell_type": "code",
      "source": [
        "for annot in np.array(sorted(os.listdir(annotation_path)))[idx]:\n",
        "    shutil.move(os.path.join(annotation_path, annot), os.path.join(test_annotation_path, annot))\n"
      ],
      "metadata": {
        "id": "pRnTlBF0CwFw"
      },
      "execution_count": 8,
      "outputs": []
    },
    {
      "cell_type": "code",
      "source": [
        "print(len(os.listdir(annotation_path)))\n",
        "print(len(os.listdir(image_path)))\n",
        "print(len(os.listdir(test_annotation_path)))\n",
        "print(len(os.listdir(test_image_path)))"
      ],
      "metadata": {
        "id": "Wh3vLp6eDWc7",
        "colab": {
          "base_uri": "https://localhost:8080/"
        },
        "outputId": "88b6cbef-0960-48aa-85a4-e5e6c78762eb"
      },
      "execution_count": 9,
      "outputs": [
        {
          "output_type": "stream",
          "name": "stdout",
          "text": [
            "1382\n",
            "1382\n",
            "345\n",
            "345\n"
          ]
        }
      ]
    },
    {
      "cell_type": "code",
      "source": [
        "def generate_box(obj):\n",
        "\n",
        "    xmin = float(obj.find('xmin').text)\n",
        "    ymin = float(obj.find('ymin').text)\n",
        "    xmax = float(obj.find('xmax').text)\n",
        "    ymax = float(obj.find('ymax').text)\n",
        "\n",
        "    return [xmin, ymin, xmax, ymax]\n",
        "\n",
        "adjust_label = 1\n",
        "\n",
        "def generate_label(obj):\n",
        "\n",
        "    if obj.find('name').text == \"Tray Well\":\n",
        "\n",
        "        return 1 + adjust_label\n",
        "\n",
        "    return 0 + adjust_label\n",
        "\n",
        "def generate_target(file):\n",
        "    with open(file) as f:\n",
        "        data = f.read()\n",
        "        soup = BeautifulSoup(data, \"html.parser\")\n",
        "        objects = soup.find_all(\"object\")\n",
        "\n",
        "        num_objs = len(objects)\n",
        "\n",
        "        boxes = []\n",
        "        labels = []\n",
        "        for i in objects:\n",
        "            boxes.append(generate_box(i))\n",
        "            labels.append(generate_label(i))\n",
        "\n",
        "        boxes = torch.as_tensor(boxes, dtype=torch.float32)\n",
        "        labels = torch.as_tensor(labels, dtype=torch.int64)\n",
        "\n",
        "        target = {}\n",
        "        target[\"boxes\"] = boxes\n",
        "        target[\"labels\"] = labels\n",
        "\n",
        "        return target\n",
        "\n",
        "def plot_image_from_output(img, annotation):\n",
        "\n",
        "    img = img.cpu().permute(1,2,0)\n",
        "\n",
        "    fig,ax = plt.subplots(1)\n",
        "    ax.imshow(img)\n",
        "\n",
        "    for idx in range(len(annotation[\"boxes\"])):\n",
        "        xmin, ymin, xmax, ymax = annotation[\"boxes\"][idx]\n",
        "\n",
        "        if annotation['labels'][idx] == 1 :\n",
        "            rect = patches.Rectangle((xmin,ymin),(xmax-xmin),(ymax-ymin),linewidth=1,edgecolor='r',facecolor='none')\n",
        "\n",
        "        else :\n",
        "\n",
        "            rect = patches.Rectangle((xmin,ymin),(xmax-xmin),(ymax-ymin),linewidth=1,edgecolor='orange',facecolor='none')\n",
        "\n",
        "        ax.add_patch(rect)\n",
        "\n",
        "    plt.show()"
      ],
      "metadata": {
        "id": "PXUjMamHlBtl"
      },
      "execution_count": 10,
      "outputs": []
    },
    {
      "cell_type": "code",
      "source": [
        "class MaskDataset(object):\n",
        "    def __init__(self, transforms, path):\n",
        "        '''\n",
        "        path: path to train folder or test folder\n",
        "        '''\n",
        "        # define the path to the images and what transform will be used\n",
        "        self.transforms = transforms\n",
        "        self.path = path\n",
        "        self.imgs = list(sorted(os.listdir(self.path)))\n",
        "\n",
        "\n",
        "    def __getitem__(self, idx): #special method\n",
        "        # load images ad masks\n",
        "        file_image = self.imgs[idx]\n",
        "        file_label = self.imgs[idx][:-3] + 'xml'\n",
        "        img_path = os.path.join(self.path, file_image)\n",
        "\n",
        "        if 'test' in self.path:\n",
        "            label_path = os.path.join(test_annotation_path, file_label)\n",
        "        else:\n",
        "            label_path = os.path.join(annotation_path, file_label)\n",
        "\n",
        "        img = Image.open(img_path).convert(\"RGB\")\n",
        "        #Generate Label\n",
        "        target = generate_target(label_path)\n",
        "\n",
        "        if self.transforms is not None:\n",
        "            img = self.transforms(img)\n",
        "\n",
        "        return img, target\n",
        "\n",
        "    def __len__(self):\n",
        "        return len(self.imgs)\n"
      ],
      "metadata": {
        "id": "x3uL6nPOlOPA"
      },
      "execution_count": 11,
      "outputs": []
    },
    {
      "cell_type": "code",
      "source": [
        "data_transform = transforms.Compose([  # transforms.Compose : a class that calls the functions in a list consecutively\n",
        "        transforms.ToTensor() # ToTensor : convert numpy image to torch.Tensor type\n",
        "    ])\n",
        "\n",
        "def collate_fn(batch):\n",
        "    return tuple(zip(*batch))\n",
        "\n",
        "dataset = MaskDataset(data_transform, image_path)\n",
        "test_dataset = MaskDataset(data_transform, test_image_path)\n",
        "\n",
        "data_loader = torch.utils.data.DataLoader(dataset, batch_size=20, collate_fn=collate_fn)\n",
        "test_data_loader = torch.utils.data.DataLoader(test_dataset, batch_size=20, collate_fn=collate_fn)\n"
      ],
      "metadata": {
        "id": "7Ct6emmBlUfr"
      },
      "execution_count": 12,
      "outputs": []
    },
    {
      "cell_type": "code",
      "source": [
        "def get_model_instance_segmentation(num_classes):\n",
        "\n",
        "    model = torchvision.models.detection.fasterrcnn_resnet50_fpn(pretrained=True)\n",
        "    in_features = model.roi_heads.box_predictor.cls_score.in_features\n",
        "    model.roi_heads.box_predictor = FastRCNNPredictor(in_features, num_classes)\n",
        "\n",
        "    return model"
      ],
      "metadata": {
        "id": "p0-zgZi6nAGp"
      },
      "execution_count": 13,
      "outputs": []
    },
    {
      "cell_type": "code",
      "source": [
        "model = get_model_instance_segmentation(3)\n",
        "\n",
        "device = torch.device('cuda') if torch.cuda.is_available() else torch.device('cpu')\n",
        "model.to(device)"
      ],
      "metadata": {
        "id": "ZGhUc3KkqXqj",
        "colab": {
          "base_uri": "https://localhost:8080/"
        },
        "outputId": "ee0400df-2082-4c61-daf9-61835a425e29"
      },
      "execution_count": 14,
      "outputs": [
        {
          "output_type": "stream",
          "name": "stderr",
          "text": [
            "/usr/local/lib/python3.10/dist-packages/torchvision/models/_utils.py:208: UserWarning: The parameter 'pretrained' is deprecated since 0.13 and may be removed in the future, please use 'weights' instead.\n",
            "  warnings.warn(\n",
            "/usr/local/lib/python3.10/dist-packages/torchvision/models/_utils.py:223: UserWarning: Arguments other than a weight enum or `None` for 'weights' are deprecated since 0.13 and may be removed in the future. The current behavior is equivalent to passing `weights=FasterRCNN_ResNet50_FPN_Weights.COCO_V1`. You can also use `weights=FasterRCNN_ResNet50_FPN_Weights.DEFAULT` to get the most up-to-date weights.\n",
            "  warnings.warn(msg)\n"
          ]
        },
        {
          "output_type": "execute_result",
          "data": {
            "text/plain": [
              "FasterRCNN(\n",
              "  (transform): GeneralizedRCNNTransform(\n",
              "      Normalize(mean=[0.485, 0.456, 0.406], std=[0.229, 0.224, 0.225])\n",
              "      Resize(min_size=(800,), max_size=1333, mode='bilinear')\n",
              "  )\n",
              "  (backbone): BackboneWithFPN(\n",
              "    (body): IntermediateLayerGetter(\n",
              "      (conv1): Conv2d(3, 64, kernel_size=(7, 7), stride=(2, 2), padding=(3, 3), bias=False)\n",
              "      (bn1): FrozenBatchNorm2d(64, eps=0.0)\n",
              "      (relu): ReLU(inplace=True)\n",
              "      (maxpool): MaxPool2d(kernel_size=3, stride=2, padding=1, dilation=1, ceil_mode=False)\n",
              "      (layer1): Sequential(\n",
              "        (0): Bottleneck(\n",
              "          (conv1): Conv2d(64, 64, kernel_size=(1, 1), stride=(1, 1), bias=False)\n",
              "          (bn1): FrozenBatchNorm2d(64, eps=0.0)\n",
              "          (conv2): Conv2d(64, 64, kernel_size=(3, 3), stride=(1, 1), padding=(1, 1), bias=False)\n",
              "          (bn2): FrozenBatchNorm2d(64, eps=0.0)\n",
              "          (conv3): Conv2d(64, 256, kernel_size=(1, 1), stride=(1, 1), bias=False)\n",
              "          (bn3): FrozenBatchNorm2d(256, eps=0.0)\n",
              "          (relu): ReLU(inplace=True)\n",
              "          (downsample): Sequential(\n",
              "            (0): Conv2d(64, 256, kernel_size=(1, 1), stride=(1, 1), bias=False)\n",
              "            (1): FrozenBatchNorm2d(256, eps=0.0)\n",
              "          )\n",
              "        )\n",
              "        (1): Bottleneck(\n",
              "          (conv1): Conv2d(256, 64, kernel_size=(1, 1), stride=(1, 1), bias=False)\n",
              "          (bn1): FrozenBatchNorm2d(64, eps=0.0)\n",
              "          (conv2): Conv2d(64, 64, kernel_size=(3, 3), stride=(1, 1), padding=(1, 1), bias=False)\n",
              "          (bn2): FrozenBatchNorm2d(64, eps=0.0)\n",
              "          (conv3): Conv2d(64, 256, kernel_size=(1, 1), stride=(1, 1), bias=False)\n",
              "          (bn3): FrozenBatchNorm2d(256, eps=0.0)\n",
              "          (relu): ReLU(inplace=True)\n",
              "        )\n",
              "        (2): Bottleneck(\n",
              "          (conv1): Conv2d(256, 64, kernel_size=(1, 1), stride=(1, 1), bias=False)\n",
              "          (bn1): FrozenBatchNorm2d(64, eps=0.0)\n",
              "          (conv2): Conv2d(64, 64, kernel_size=(3, 3), stride=(1, 1), padding=(1, 1), bias=False)\n",
              "          (bn2): FrozenBatchNorm2d(64, eps=0.0)\n",
              "          (conv3): Conv2d(64, 256, kernel_size=(1, 1), stride=(1, 1), bias=False)\n",
              "          (bn3): FrozenBatchNorm2d(256, eps=0.0)\n",
              "          (relu): ReLU(inplace=True)\n",
              "        )\n",
              "      )\n",
              "      (layer2): Sequential(\n",
              "        (0): Bottleneck(\n",
              "          (conv1): Conv2d(256, 128, kernel_size=(1, 1), stride=(1, 1), bias=False)\n",
              "          (bn1): FrozenBatchNorm2d(128, eps=0.0)\n",
              "          (conv2): Conv2d(128, 128, kernel_size=(3, 3), stride=(2, 2), padding=(1, 1), bias=False)\n",
              "          (bn2): FrozenBatchNorm2d(128, eps=0.0)\n",
              "          (conv3): Conv2d(128, 512, kernel_size=(1, 1), stride=(1, 1), bias=False)\n",
              "          (bn3): FrozenBatchNorm2d(512, eps=0.0)\n",
              "          (relu): ReLU(inplace=True)\n",
              "          (downsample): Sequential(\n",
              "            (0): Conv2d(256, 512, kernel_size=(1, 1), stride=(2, 2), bias=False)\n",
              "            (1): FrozenBatchNorm2d(512, eps=0.0)\n",
              "          )\n",
              "        )\n",
              "        (1): Bottleneck(\n",
              "          (conv1): Conv2d(512, 128, kernel_size=(1, 1), stride=(1, 1), bias=False)\n",
              "          (bn1): FrozenBatchNorm2d(128, eps=0.0)\n",
              "          (conv2): Conv2d(128, 128, kernel_size=(3, 3), stride=(1, 1), padding=(1, 1), bias=False)\n",
              "          (bn2): FrozenBatchNorm2d(128, eps=0.0)\n",
              "          (conv3): Conv2d(128, 512, kernel_size=(1, 1), stride=(1, 1), bias=False)\n",
              "          (bn3): FrozenBatchNorm2d(512, eps=0.0)\n",
              "          (relu): ReLU(inplace=True)\n",
              "        )\n",
              "        (2): Bottleneck(\n",
              "          (conv1): Conv2d(512, 128, kernel_size=(1, 1), stride=(1, 1), bias=False)\n",
              "          (bn1): FrozenBatchNorm2d(128, eps=0.0)\n",
              "          (conv2): Conv2d(128, 128, kernel_size=(3, 3), stride=(1, 1), padding=(1, 1), bias=False)\n",
              "          (bn2): FrozenBatchNorm2d(128, eps=0.0)\n",
              "          (conv3): Conv2d(128, 512, kernel_size=(1, 1), stride=(1, 1), bias=False)\n",
              "          (bn3): FrozenBatchNorm2d(512, eps=0.0)\n",
              "          (relu): ReLU(inplace=True)\n",
              "        )\n",
              "        (3): Bottleneck(\n",
              "          (conv1): Conv2d(512, 128, kernel_size=(1, 1), stride=(1, 1), bias=False)\n",
              "          (bn1): FrozenBatchNorm2d(128, eps=0.0)\n",
              "          (conv2): Conv2d(128, 128, kernel_size=(3, 3), stride=(1, 1), padding=(1, 1), bias=False)\n",
              "          (bn2): FrozenBatchNorm2d(128, eps=0.0)\n",
              "          (conv3): Conv2d(128, 512, kernel_size=(1, 1), stride=(1, 1), bias=False)\n",
              "          (bn3): FrozenBatchNorm2d(512, eps=0.0)\n",
              "          (relu): ReLU(inplace=True)\n",
              "        )\n",
              "      )\n",
              "      (layer3): Sequential(\n",
              "        (0): Bottleneck(\n",
              "          (conv1): Conv2d(512, 256, kernel_size=(1, 1), stride=(1, 1), bias=False)\n",
              "          (bn1): FrozenBatchNorm2d(256, eps=0.0)\n",
              "          (conv2): Conv2d(256, 256, kernel_size=(3, 3), stride=(2, 2), padding=(1, 1), bias=False)\n",
              "          (bn2): FrozenBatchNorm2d(256, eps=0.0)\n",
              "          (conv3): Conv2d(256, 1024, kernel_size=(1, 1), stride=(1, 1), bias=False)\n",
              "          (bn3): FrozenBatchNorm2d(1024, eps=0.0)\n",
              "          (relu): ReLU(inplace=True)\n",
              "          (downsample): Sequential(\n",
              "            (0): Conv2d(512, 1024, kernel_size=(1, 1), stride=(2, 2), bias=False)\n",
              "            (1): FrozenBatchNorm2d(1024, eps=0.0)\n",
              "          )\n",
              "        )\n",
              "        (1): Bottleneck(\n",
              "          (conv1): Conv2d(1024, 256, kernel_size=(1, 1), stride=(1, 1), bias=False)\n",
              "          (bn1): FrozenBatchNorm2d(256, eps=0.0)\n",
              "          (conv2): Conv2d(256, 256, kernel_size=(3, 3), stride=(1, 1), padding=(1, 1), bias=False)\n",
              "          (bn2): FrozenBatchNorm2d(256, eps=0.0)\n",
              "          (conv3): Conv2d(256, 1024, kernel_size=(1, 1), stride=(1, 1), bias=False)\n",
              "          (bn3): FrozenBatchNorm2d(1024, eps=0.0)\n",
              "          (relu): ReLU(inplace=True)\n",
              "        )\n",
              "        (2): Bottleneck(\n",
              "          (conv1): Conv2d(1024, 256, kernel_size=(1, 1), stride=(1, 1), bias=False)\n",
              "          (bn1): FrozenBatchNorm2d(256, eps=0.0)\n",
              "          (conv2): Conv2d(256, 256, kernel_size=(3, 3), stride=(1, 1), padding=(1, 1), bias=False)\n",
              "          (bn2): FrozenBatchNorm2d(256, eps=0.0)\n",
              "          (conv3): Conv2d(256, 1024, kernel_size=(1, 1), stride=(1, 1), bias=False)\n",
              "          (bn3): FrozenBatchNorm2d(1024, eps=0.0)\n",
              "          (relu): ReLU(inplace=True)\n",
              "        )\n",
              "        (3): Bottleneck(\n",
              "          (conv1): Conv2d(1024, 256, kernel_size=(1, 1), stride=(1, 1), bias=False)\n",
              "          (bn1): FrozenBatchNorm2d(256, eps=0.0)\n",
              "          (conv2): Conv2d(256, 256, kernel_size=(3, 3), stride=(1, 1), padding=(1, 1), bias=False)\n",
              "          (bn2): FrozenBatchNorm2d(256, eps=0.0)\n",
              "          (conv3): Conv2d(256, 1024, kernel_size=(1, 1), stride=(1, 1), bias=False)\n",
              "          (bn3): FrozenBatchNorm2d(1024, eps=0.0)\n",
              "          (relu): ReLU(inplace=True)\n",
              "        )\n",
              "        (4): Bottleneck(\n",
              "          (conv1): Conv2d(1024, 256, kernel_size=(1, 1), stride=(1, 1), bias=False)\n",
              "          (bn1): FrozenBatchNorm2d(256, eps=0.0)\n",
              "          (conv2): Conv2d(256, 256, kernel_size=(3, 3), stride=(1, 1), padding=(1, 1), bias=False)\n",
              "          (bn2): FrozenBatchNorm2d(256, eps=0.0)\n",
              "          (conv3): Conv2d(256, 1024, kernel_size=(1, 1), stride=(1, 1), bias=False)\n",
              "          (bn3): FrozenBatchNorm2d(1024, eps=0.0)\n",
              "          (relu): ReLU(inplace=True)\n",
              "        )\n",
              "        (5): Bottleneck(\n",
              "          (conv1): Conv2d(1024, 256, kernel_size=(1, 1), stride=(1, 1), bias=False)\n",
              "          (bn1): FrozenBatchNorm2d(256, eps=0.0)\n",
              "          (conv2): Conv2d(256, 256, kernel_size=(3, 3), stride=(1, 1), padding=(1, 1), bias=False)\n",
              "          (bn2): FrozenBatchNorm2d(256, eps=0.0)\n",
              "          (conv3): Conv2d(256, 1024, kernel_size=(1, 1), stride=(1, 1), bias=False)\n",
              "          (bn3): FrozenBatchNorm2d(1024, eps=0.0)\n",
              "          (relu): ReLU(inplace=True)\n",
              "        )\n",
              "      )\n",
              "      (layer4): Sequential(\n",
              "        (0): Bottleneck(\n",
              "          (conv1): Conv2d(1024, 512, kernel_size=(1, 1), stride=(1, 1), bias=False)\n",
              "          (bn1): FrozenBatchNorm2d(512, eps=0.0)\n",
              "          (conv2): Conv2d(512, 512, kernel_size=(3, 3), stride=(2, 2), padding=(1, 1), bias=False)\n",
              "          (bn2): FrozenBatchNorm2d(512, eps=0.0)\n",
              "          (conv3): Conv2d(512, 2048, kernel_size=(1, 1), stride=(1, 1), bias=False)\n",
              "          (bn3): FrozenBatchNorm2d(2048, eps=0.0)\n",
              "          (relu): ReLU(inplace=True)\n",
              "          (downsample): Sequential(\n",
              "            (0): Conv2d(1024, 2048, kernel_size=(1, 1), stride=(2, 2), bias=False)\n",
              "            (1): FrozenBatchNorm2d(2048, eps=0.0)\n",
              "          )\n",
              "        )\n",
              "        (1): Bottleneck(\n",
              "          (conv1): Conv2d(2048, 512, kernel_size=(1, 1), stride=(1, 1), bias=False)\n",
              "          (bn1): FrozenBatchNorm2d(512, eps=0.0)\n",
              "          (conv2): Conv2d(512, 512, kernel_size=(3, 3), stride=(1, 1), padding=(1, 1), bias=False)\n",
              "          (bn2): FrozenBatchNorm2d(512, eps=0.0)\n",
              "          (conv3): Conv2d(512, 2048, kernel_size=(1, 1), stride=(1, 1), bias=False)\n",
              "          (bn3): FrozenBatchNorm2d(2048, eps=0.0)\n",
              "          (relu): ReLU(inplace=True)\n",
              "        )\n",
              "        (2): Bottleneck(\n",
              "          (conv1): Conv2d(2048, 512, kernel_size=(1, 1), stride=(1, 1), bias=False)\n",
              "          (bn1): FrozenBatchNorm2d(512, eps=0.0)\n",
              "          (conv2): Conv2d(512, 512, kernel_size=(3, 3), stride=(1, 1), padding=(1, 1), bias=False)\n",
              "          (bn2): FrozenBatchNorm2d(512, eps=0.0)\n",
              "          (conv3): Conv2d(512, 2048, kernel_size=(1, 1), stride=(1, 1), bias=False)\n",
              "          (bn3): FrozenBatchNorm2d(2048, eps=0.0)\n",
              "          (relu): ReLU(inplace=True)\n",
              "        )\n",
              "      )\n",
              "    )\n",
              "    (fpn): FeaturePyramidNetwork(\n",
              "      (inner_blocks): ModuleList(\n",
              "        (0): Conv2dNormActivation(\n",
              "          (0): Conv2d(256, 256, kernel_size=(1, 1), stride=(1, 1))\n",
              "        )\n",
              "        (1): Conv2dNormActivation(\n",
              "          (0): Conv2d(512, 256, kernel_size=(1, 1), stride=(1, 1))\n",
              "        )\n",
              "        (2): Conv2dNormActivation(\n",
              "          (0): Conv2d(1024, 256, kernel_size=(1, 1), stride=(1, 1))\n",
              "        )\n",
              "        (3): Conv2dNormActivation(\n",
              "          (0): Conv2d(2048, 256, kernel_size=(1, 1), stride=(1, 1))\n",
              "        )\n",
              "      )\n",
              "      (layer_blocks): ModuleList(\n",
              "        (0-3): 4 x Conv2dNormActivation(\n",
              "          (0): Conv2d(256, 256, kernel_size=(3, 3), stride=(1, 1), padding=(1, 1))\n",
              "        )\n",
              "      )\n",
              "      (extra_blocks): LastLevelMaxPool()\n",
              "    )\n",
              "  )\n",
              "  (rpn): RegionProposalNetwork(\n",
              "    (anchor_generator): AnchorGenerator()\n",
              "    (head): RPNHead(\n",
              "      (conv): Sequential(\n",
              "        (0): Conv2dNormActivation(\n",
              "          (0): Conv2d(256, 256, kernel_size=(3, 3), stride=(1, 1), padding=(1, 1))\n",
              "          (1): ReLU(inplace=True)\n",
              "        )\n",
              "      )\n",
              "      (cls_logits): Conv2d(256, 3, kernel_size=(1, 1), stride=(1, 1))\n",
              "      (bbox_pred): Conv2d(256, 12, kernel_size=(1, 1), stride=(1, 1))\n",
              "    )\n",
              "  )\n",
              "  (roi_heads): RoIHeads(\n",
              "    (box_roi_pool): MultiScaleRoIAlign(featmap_names=['0', '1', '2', '3'], output_size=(7, 7), sampling_ratio=2)\n",
              "    (box_head): TwoMLPHead(\n",
              "      (fc6): Linear(in_features=12544, out_features=1024, bias=True)\n",
              "      (fc7): Linear(in_features=1024, out_features=1024, bias=True)\n",
              "    )\n",
              "    (box_predictor): FastRCNNPredictor(\n",
              "      (cls_score): Linear(in_features=1024, out_features=3, bias=True)\n",
              "      (bbox_pred): Linear(in_features=1024, out_features=12, bias=True)\n",
              "    )\n",
              "  )\n",
              ")"
            ]
          },
          "metadata": {},
          "execution_count": 14
        }
      ]
    },
    {
      "cell_type": "code",
      "source": [
        "torch.cuda.is_available()"
      ],
      "metadata": {
        "colab": {
          "base_uri": "https://localhost:8080/"
        },
        "id": "hXQKMYOiqmB4",
        "outputId": "dcd0aa48-3c35-4cec-b089-f4340ac51c0e"
      },
      "execution_count": 15,
      "outputs": [
        {
          "output_type": "execute_result",
          "data": {
            "text/plain": [
              "True"
            ]
          },
          "metadata": {},
          "execution_count": 15
        }
      ]
    },
    {
      "cell_type": "code",
      "source": [
        "num_epochs = 20\n",
        "params = [p for p in model.parameters() if p.requires_grad]\n",
        "optimizer = torch.optim.SGD(params, lr=0.005,\n",
        "                                momentum=0.9, weight_decay=0.0005)"
      ],
      "metadata": {
        "id": "7KvGUGh6qr7M"
      },
      "execution_count": 42,
      "outputs": []
    },
    {
      "cell_type": "code",
      "source": [
        "print('----------------------train start--------------------------')\n",
        "for epoch in range(num_epochs):\n",
        "    start = time.time()\n",
        "    model.train()\n",
        "    i = 0\n",
        "    epoch_loss = 0\n",
        "    for imgs, annotations in data_loader:\n",
        "        i += 1\n",
        "        imgs = list(img.to(device) for img in imgs)\n",
        "        annotations = [{k: v.to(device) for k, v in t.items()} for t in annotations]\n",
        "        loss_dict = model(imgs, annotations)\n",
        "        losses = sum(loss for loss in loss_dict.values())\n",
        "\n",
        "        optimizer.zero_grad()\n",
        "        losses.backward()\n",
        "        optimizer.step()\n",
        "        epoch_loss += losses\n",
        "    print(f'epoch : {epoch+1}, Loss : {epoch_loss}, time : {time.time() - start}')"
      ],
      "metadata": {
        "colab": {
          "base_uri": "https://localhost:8080/"
        },
        "id": "_9mYN9GIqyle",
        "outputId": "bfd35cbe-573d-4e95-8b7d-2973dddd352c"
      },
      "execution_count": 43,
      "outputs": [
        {
          "output_type": "stream",
          "name": "stdout",
          "text": [
            "----------------------train start--------------------------\n",
            "epoch : 1, Loss : 11.563961029052734, time : 149.85641741752625\n",
            "epoch : 2, Loss : 10.648903846740723, time : 149.6054232120514\n",
            "epoch : 3, Loss : 10.38216781616211, time : 149.5228395462036\n",
            "epoch : 4, Loss : 9.85767650604248, time : 149.7147741317749\n",
            "epoch : 5, Loss : 9.465963363647461, time : 149.6317207813263\n",
            "epoch : 6, Loss : 9.199226379394531, time : 149.59368753433228\n",
            "epoch : 7, Loss : 8.772610664367676, time : 149.69164061546326\n",
            "epoch : 8, Loss : 8.654876708984375, time : 149.6143593788147\n",
            "epoch : 9, Loss : 8.649017333984375, time : 149.5707972049713\n",
            "epoch : 10, Loss : 8.523856163024902, time : 149.60217571258545\n",
            "epoch : 11, Loss : 8.578598022460938, time : 149.56611561775208\n",
            "epoch : 12, Loss : 8.594781875610352, time : 149.6590690612793\n",
            "epoch : 13, Loss : 8.306453704833984, time : 149.6067681312561\n",
            "epoch : 14, Loss : 8.034360885620117, time : 149.6492371559143\n",
            "epoch : 15, Loss : 7.770890235900879, time : 149.6899561882019\n",
            "epoch : 16, Loss : 7.616492748260498, time : 149.66424894332886\n",
            "epoch : 17, Loss : 7.470091342926025, time : 149.6061761379242\n",
            "epoch : 18, Loss : 7.435011863708496, time : 149.632080078125\n",
            "epoch : 19, Loss : 7.865454196929932, time : 149.6125066280365\n",
            "epoch : 20, Loss : 8.036202430725098, time : 149.57380652427673\n"
          ]
        }
      ]
    },
    {
      "cell_type": "code",
      "source": [
        "torch.save(model.state_dict(),f'model_{num_epochs}.pt')\n"
      ],
      "metadata": {
        "id": "UWtpXFiPq037"
      },
      "execution_count": 44,
      "outputs": []
    },
    {
      "cell_type": "code",
      "source": [
        "model.load_state_dict(torch.load(f'model_{num_epochs}.pt'))"
      ],
      "metadata": {
        "id": "4oHbq2EVveBE",
        "colab": {
          "base_uri": "https://localhost:8080/"
        },
        "outputId": "dff87b4f-594f-48d4-b8d0-3ad00467a32b"
      },
      "execution_count": 45,
      "outputs": [
        {
          "output_type": "execute_result",
          "data": {
            "text/plain": [
              "<All keys matched successfully>"
            ]
          },
          "metadata": {},
          "execution_count": 45
        }
      ]
    },
    {
      "cell_type": "code",
      "source": [
        "def make_prediction(model, img, threshold):\n",
        "    model.eval()\n",
        "    preds = model(img)\n",
        "    for id in range(len(preds)):\n",
        "        idx_list = []\n",
        "\n",
        "        for idx, score in enumerate(preds[id]['scores']) :\n",
        "            if score > threshold :\n",
        "                idx_list.append(idx)\n",
        "\n",
        "        preds[id]['boxes'] = preds[id]['boxes'][idx_list]\n",
        "        preds[id]['labels'] = preds[id]['labels'][idx_list]\n",
        "        preds[id]['scores'] = preds[id]['scores'][idx_list]\n",
        "\n",
        "    return preds"
      ],
      "metadata": {
        "id": "I0bIr9B4vidz"
      },
      "execution_count": 46,
      "outputs": []
    },
    {
      "cell_type": "code",
      "source": [
        "with torch.no_grad():\n",
        "    # batch size of the test set = 2\n",
        "    for imgs, annotations in test_data_loader:\n",
        "        imgs = list(img.to(device) for img in imgs)\n",
        "\n",
        "        pred = make_prediction(model, imgs, 0.5)\n",
        "        print(pred)\n",
        "        break\n"
      ],
      "metadata": {
        "colab": {
          "base_uri": "https://localhost:8080/"
        },
        "id": "QJAMWmBuvz-c",
        "outputId": "e1c54949-9447-425a-b334-1b5b743c6de9"
      },
      "execution_count": 47,
      "outputs": [
        {
          "output_type": "stream",
          "name": "stdout",
          "text": [
            "[{'boxes': tensor([[681.2142, 509.5097, 936.0000, 777.0000],\n",
            "        [656.7713, 233.5548, 936.0000, 519.3186],\n",
            "        [374.9232,   0.0000, 649.7213, 246.2691],\n",
            "        [391.4268, 253.2753, 641.2130, 512.3470],\n",
            "        [133.6107, 557.6021, 405.9928, 777.0000],\n",
            "        [104.5248, 272.7962, 357.1473, 533.3113],\n",
            "        [ 74.0667,   0.0000, 345.4099, 246.7825],\n",
            "        [642.3680,   0.0000, 918.3217, 235.9836],\n",
            "        [420.7043, 534.7040, 673.9473, 777.0000]], device='cuda:0'), 'labels': tensor([2, 2, 2, 2, 2, 2, 2, 2, 2], device='cuda:0'), 'scores': tensor([0.9981, 0.9978, 0.9970, 0.9966, 0.9940, 0.9927, 0.9916, 0.9900, 0.9842],\n",
            "       device='cuda:0')}, {'boxes': tensor([[377.6789,   0.0000, 634.7836, 250.6954],\n",
            "        [670.0387, 239.1905, 936.0000, 506.8806],\n",
            "        [100.2337, 270.1297, 372.4698, 530.7571],\n",
            "        [392.0695, 242.4885, 648.9903, 509.0482],\n",
            "        [ 99.2069,   0.0000, 345.9936, 255.7265],\n",
            "        [651.4004,   0.0000, 903.4987, 212.1936],\n",
            "        [692.6564, 528.4042, 936.0000, 777.0000],\n",
            "        [120.8123, 550.3376, 390.3220, 777.0000],\n",
            "        [418.4638, 524.6136, 671.2832, 777.0000]], device='cuda:0'), 'labels': tensor([2, 2, 2, 2, 2, 2, 2, 2, 2], device='cuda:0'), 'scores': tensor([0.9984, 0.9970, 0.9953, 0.9950, 0.9946, 0.9946, 0.9918, 0.9908, 0.9438],\n",
            "       device='cuda:0')}, {'boxes': tensor([[238.0925, 419.2954, 494.7734, 684.8030],\n",
            "        [504.2267, 395.2639, 784.4811, 669.0153],\n",
            "        [  0.0000, 441.5745, 216.1496, 703.3636]], device='cuda:0'), 'labels': tensor([2, 2, 2], device='cuda:0'), 'scores': tensor([0.9968, 0.9960, 0.9922], device='cuda:0')}, {'boxes': tensor([[234.7088, 412.5065, 504.6987, 678.1242],\n",
            "        [510.5231, 393.7513, 780.5243, 667.6304],\n",
            "        [  0.0000, 429.7963, 219.0527, 691.5241]], device='cuda:0'), 'labels': tensor([2, 2, 2], device='cuda:0'), 'scores': tensor([0.9980, 0.9958, 0.9887], device='cuda:0')}, {'boxes': tensor([[683.4066,  95.5627, 936.0000, 368.8624],\n",
            "        [691.0348, 373.5835, 936.0000, 648.7424],\n",
            "        [120.8179, 414.3897, 404.9843, 688.2982],\n",
            "        [410.2535, 395.1634, 670.0865, 662.7806],\n",
            "        [398.1197, 105.7225, 668.0359, 374.6420],\n",
            "        [ 99.5019, 115.5729, 371.9687, 387.9127]], device='cuda:0'), 'labels': tensor([2, 2, 2, 2, 2, 2], device='cuda:0'), 'scores': tensor([0.9975, 0.9961, 0.9955, 0.9947, 0.9944, 0.9931], device='cuda:0')}, {'boxes': tensor([[396.3111,  83.5596, 660.5223, 356.2354],\n",
            "        [392.8655, 369.8366, 658.7507, 634.6556],\n",
            "        [686.1787,  77.5449, 936.0000, 349.6698],\n",
            "        [699.0444, 400.3907, 936.0000, 654.5902]], device='cuda:0'), 'labels': tensor([2, 2, 2, 2], device='cuda:0'), 'scores': tensor([0.9954, 0.9953, 0.9921, 0.9876], device='cuda:0')}, {'boxes': tensor([[413.7398,  54.8111, 676.9794, 319.4901],\n",
            "        [413.2162, 332.4801, 674.4576, 598.2410],\n",
            "        [696.9747, 334.4873, 936.0000, 599.1115],\n",
            "        [691.1162,  57.4225, 936.0000, 323.3015],\n",
            "        [123.3896, 340.7574, 387.1159, 601.5573],\n",
            "        [130.7406,  47.3985, 391.6840, 310.4297],\n",
            "        [702.5169, 624.1183, 936.0000, 777.0000],\n",
            "        [128.0378, 624.4094, 400.2576, 777.0000]], device='cuda:0'), 'labels': tensor([2, 2, 2, 2, 2, 2, 2, 2], device='cuda:0'), 'scores': tensor([0.9972, 0.9971, 0.9970, 0.9969, 0.9947, 0.9919, 0.7676, 0.7224],\n",
            "       device='cuda:0')}, {'boxes': tensor([[389.8386, 369.6345, 662.1460, 640.6552],\n",
            "        [690.0316, 377.2940, 936.0000, 656.7585],\n",
            "        [682.8207,  81.4796, 936.0000, 353.5154],\n",
            "        [401.0223,  99.1612, 651.3380, 338.9599]], device='cuda:0'), 'labels': tensor([2, 2, 2, 2], device='cuda:0'), 'scores': tensor([0.9966, 0.9961, 0.9913, 0.9870], device='cuda:0')}, {'boxes': tensor([[354.0847, 338.7575, 621.2965, 602.4819],\n",
            "        [642.4247, 334.3100, 918.3073, 602.1220],\n",
            "        [355.6841,  51.5343, 617.3508, 316.9763],\n",
            "        [620.6567,  47.1471, 897.6575, 309.4556],\n",
            "        [636.8242, 616.3137, 910.1185, 777.0000]], device='cuda:0'), 'labels': tensor([2, 2, 2, 2, 2], device='cuda:0'), 'scores': tensor([0.9958, 0.9953, 0.9948, 0.9911, 0.8198], device='cuda:0')}, {'boxes': tensor([[353.8885, 337.5310, 622.8840, 601.6293],\n",
            "        [644.0488, 330.4136, 919.6167, 602.1856],\n",
            "        [350.5494,  52.2284, 613.6699, 319.5098],\n",
            "        [619.8682,  45.9329, 897.0233, 310.8947],\n",
            "        [638.3050, 618.4047, 907.2748, 777.0000]], device='cuda:0'), 'labels': tensor([2, 2, 2, 2, 2], device='cuda:0'), 'scores': tensor([0.9959, 0.9958, 0.9924, 0.9922, 0.8589], device='cuda:0')}, {'boxes': tensor([[353.2242, 337.4952, 625.1689, 604.7943],\n",
            "        [644.4627, 334.2631, 923.5582, 603.6796],\n",
            "        [353.3937,  52.8000, 618.1387, 317.2594],\n",
            "        [625.1306,  47.3753, 893.3446, 309.7492],\n",
            "        [640.9475, 616.8764, 913.0189, 777.0000]], device='cuda:0'), 'labels': tensor([2, 2, 2, 2, 2], device='cuda:0'), 'scores': tensor([0.9962, 0.9960, 0.9956, 0.9938, 0.7944], device='cuda:0')}, {'boxes': tensor([[352.3050,  50.5227, 616.6925, 317.0211],\n",
            "        [355.8062, 335.2430, 617.7662, 597.4692],\n",
            "        [648.1993, 332.5697, 917.5048, 599.7845],\n",
            "        [624.4161,  49.9931, 893.2936, 308.8254],\n",
            "        [649.7108, 613.5815, 919.2773, 777.0000]], device='cuda:0'), 'labels': tensor([2, 2, 2, 2, 2], device='cuda:0'), 'scores': tensor([0.9963, 0.9959, 0.9954, 0.9918, 0.9577], device='cuda:0')}, {'boxes': tensor([[133.3133, 535.4316, 398.3653, 777.0000],\n",
            "        [430.1006, 511.0196, 687.1000, 773.4753]], device='cuda:0'), 'labels': tensor([2, 2], device='cuda:0'), 'scores': tensor([0.9965, 0.9929], device='cuda:0')}, {'boxes': tensor([[608.3997, 494.3299, 893.8024, 754.2214],\n",
            "        [655.4688, 191.5911, 929.6890, 464.5681],\n",
            "        [336.1331, 435.6370, 602.2764, 702.3869],\n",
            "        [ 96.0474,  94.0788, 368.3787, 357.7251],\n",
            "        [ 41.3623, 380.2397, 304.6191, 646.2325],\n",
            "        [389.5389, 141.6708, 654.8496, 407.7254]], device='cuda:0'), 'labels': tensor([2, 2, 2, 2, 2, 2], device='cuda:0'), 'scores': tensor([0.9970, 0.9967, 0.9955, 0.9948, 0.9947, 0.9944], device='cuda:0')}, {'boxes': tensor([[612.5904, 491.4384, 893.1028, 756.0851],\n",
            "        [662.1970, 192.7159, 928.0469, 463.0088],\n",
            "        [332.1598, 437.7675, 601.1407, 705.8275],\n",
            "        [ 45.6813, 380.8197, 307.5903, 648.4771],\n",
            "        [389.1893, 141.7912, 653.9691, 406.8665],\n",
            "        [101.3766,  89.3163, 374.2722, 359.6737]], device='cuda:0'), 'labels': tensor([2, 2, 2, 2, 2, 2], device='cuda:0'), 'scores': tensor([0.9972, 0.9962, 0.9961, 0.9951, 0.9945, 0.9911], device='cuda:0')}, {'boxes': tensor([[609.8735, 494.9677, 888.9019, 754.2922],\n",
            "        [ 95.5426,  86.4331, 375.4108, 360.2598],\n",
            "        [336.6151, 430.7225, 606.8365, 701.6302],\n",
            "        [658.3159, 193.7290, 926.3029, 463.5807],\n",
            "        [386.0215, 142.5947, 657.2504, 409.0913],\n",
            "        [ 49.2633, 384.4426, 312.1602, 650.4417]], device='cuda:0'), 'labels': tensor([2, 2, 2, 2, 2, 2], device='cuda:0'), 'scores': tensor([0.9965, 0.9965, 0.9959, 0.9955, 0.9949, 0.9948], device='cuda:0')}, {'boxes': tensor([[615.6529, 496.0996, 885.8124, 753.1821],\n",
            "        [334.0384, 435.0346, 606.4238, 702.9592],\n",
            "        [ 97.8605,  86.3666, 370.9318, 356.1494],\n",
            "        [ 44.8894, 382.6540, 307.0232, 646.5681],\n",
            "        [388.0576, 143.9748, 655.4794, 407.8080],\n",
            "        [657.4064, 195.4704, 925.7209, 461.4936]], device='cuda:0'), 'labels': tensor([2, 2, 2, 2, 2, 2], device='cuda:0'), 'scores': tensor([0.9966, 0.9962, 0.9955, 0.9955, 0.9946, 0.9934], device='cuda:0')}, {'boxes': tensor([[118.4469, 510.4542, 389.5800, 777.0000],\n",
            "        [691.4100, 484.3722, 936.0000, 751.4732],\n",
            "        [425.1544, 495.8266, 693.8683, 757.1461]], device='cuda:0'), 'labels': tensor([2, 2, 2], device='cuda:0'), 'scores': tensor([0.9985, 0.9982, 0.9948], device='cuda:0')}, {'boxes': tensor([[119.3883, 516.4278, 392.1735, 777.0000],\n",
            "        [687.4427, 474.3617, 936.0000, 761.8564],\n",
            "        [430.0057, 495.3436, 695.8922, 761.2829]], device='cuda:0'), 'labels': tensor([2, 2, 2], device='cuda:0'), 'scores': tensor([0.9984, 0.9959, 0.9918], device='cuda:0')}, {'boxes': tensor([[116.9878, 512.6914, 391.3598, 777.0000],\n",
            "        [687.2987, 484.0833, 936.0000, 756.5602],\n",
            "        [424.3844, 496.6653, 687.7222, 762.3151]], device='cuda:0'), 'labels': tensor([2, 2, 2], device='cuda:0'), 'scores': tensor([0.9984, 0.9982, 0.9888], device='cuda:0')}]\n"
          ]
        }
      ]
    },
    {
      "cell_type": "code",
      "source": [
        "annotations[0]['labels']"
      ],
      "metadata": {
        "id": "rFV8AQtSQFlV",
        "colab": {
          "base_uri": "https://localhost:8080/"
        },
        "outputId": "411116e0-e252-4538-a87f-496d76cdd080"
      },
      "execution_count": 48,
      "outputs": [
        {
          "output_type": "execute_result",
          "data": {
            "text/plain": [
              "tensor([2, 2, 2, 2, 2, 2, 2, 2])"
            ]
          },
          "metadata": {},
          "execution_count": 48
        }
      ]
    },
    {
      "cell_type": "code",
      "source": [
        "_idx = 0\n",
        "\n",
        "print(\"Target : \", annotations[_idx]['labels'])\n",
        "plot_image_from_output(imgs[_idx], annotations[_idx])\n",
        "print(\"Prediction : \", pred[_idx]['labels'])\n",
        "#plot_image_from_output(imgs[_idx], pred[_idx])"
      ],
      "metadata": {
        "colab": {
          "base_uri": "https://localhost:8080/",
          "height": 470
        },
        "id": "ogl3lOW_v1mW",
        "outputId": "00287e23-1296-4ac6-d595-1ab610af3b8e"
      },
      "execution_count": 49,
      "outputs": [
        {
          "output_type": "stream",
          "name": "stdout",
          "text": [
            "Target :  tensor([2, 2, 2, 2, 2, 2, 2, 2])\n"
          ]
        },
        {
          "output_type": "display_data",
          "data": {
            "text/plain": [
              "<Figure size 640x480 with 1 Axes>"
            ],
            "image/png": "[encoded data removed]"
          },
          "metadata": {}
        },
        {
          "output_type": "stream",
          "name": "stdout",
          "text": [
            "Prediction :  tensor([2, 2, 2, 2, 2, 2, 2, 2, 2], device='cuda:0')\n"
          ]
        }
      ]
    },
    {
      "cell_type": "code",
      "source": [
        "pred[0]"
      ],
      "metadata": {
        "colab": {
          "base_uri": "https://localhost:8080/"
        },
        "id": "kBpIlUGwfRZB",
        "outputId": "f955af2a-280c-464f-e081-319253ffd8d9"
      },
      "execution_count": 50,
      "outputs": [
        {
          "output_type": "execute_result",
          "data": {
            "text/plain": [
              "{'boxes': tensor([[681.2142, 509.5097, 936.0000, 777.0000],\n",
              "         [656.7713, 233.5548, 936.0000, 519.3186],\n",
              "         [374.9232,   0.0000, 649.7213, 246.2691],\n",
              "         [391.4268, 253.2753, 641.2130, 512.3470],\n",
              "         [133.6107, 557.6021, 405.9928, 777.0000],\n",
              "         [104.5248, 272.7962, 357.1473, 533.3113],\n",
              "         [ 74.0667,   0.0000, 345.4099, 246.7825],\n",
              "         [642.3680,   0.0000, 918.3217, 235.9836],\n",
              "         [420.7043, 534.7040, 673.9473, 777.0000]], device='cuda:0'),\n",
              " 'labels': tensor([2, 2, 2, 2, 2, 2, 2, 2, 2], device='cuda:0'),\n",
              " 'scores': tensor([0.9981, 0.9978, 0.9970, 0.9966, 0.9940, 0.9927, 0.9916, 0.9900, 0.9842],\n",
              "        device='cuda:0')}"
            ]
          },
          "metadata": {},
          "execution_count": 50
        }
      ]
    },
    {
      "cell_type": "code",
      "source": [
        "annotations[0]"
      ],
      "metadata": {
        "colab": {
          "base_uri": "https://localhost:8080/"
        },
        "id": "xcDb1bxZ1STO",
        "outputId": "d469f2f1-e062-46e9-ced2-87ea3a791bcc"
      },
      "execution_count": 51,
      "outputs": [
        {
          "output_type": "execute_result",
          "data": {
            "text/plain": [
              "{'boxes': tensor([[ 50., -24., 314., 240.],\n",
              "         [365., -29., 629., 235.],\n",
              "         [652., -44., 916., 220.],\n",
              "         [388., 254., 652., 518.],\n",
              "         [ 91., 273., 355., 537.],\n",
              "         [691., 530., 955., 794.],\n",
              "         [129., 577., 393., 841.],\n",
              "         [675., 246., 939., 510.]]),\n",
              " 'labels': tensor([2, 2, 2, 2, 2, 2, 2, 2])}"
            ]
          },
          "metadata": {},
          "execution_count": 51
        }
      ]
    },
    {
      "cell_type": "code",
      "source": [
        "from tqdm import tqdm\n",
        "\n",
        "labels = []\n",
        "preds_adj_all = []\n",
        "annot_all = []\n",
        "\n",
        "for im, annot in tqdm(test_data_loader, position = 0, leave = True):\n",
        "    im = list(img.to(device) for img in im)\n",
        "\n",
        "    for t in annot:\n",
        "        labels += t['labels']\n",
        "\n",
        "    with torch.no_grad():\n",
        "        preds_adj = make_prediction(model, im, 0.5)\n",
        "        preds_adj = [{k: v.to(torch.device('cpu')) for k, v in t.items()} for t in preds_adj]\n",
        "        preds_adj_all.append(preds_adj)\n",
        "        annot_all.append(annot)"
      ],
      "metadata": {
        "colab": {
          "base_uri": "https://localhost:8080/"
        },
        "id": "6BIrdfs9xbCT",
        "outputId": "81c6659f-fc3d-4a43-c775-e3294e40ea3b"
      },
      "execution_count": 52,
      "outputs": [
        {
          "output_type": "stream",
          "name": "stderr",
          "text": [
            "100%|██████████| 18/18 [00:23<00:00,  1.29s/it]\n"
          ]
        }
      ]
    },
    {
      "cell_type": "code",
      "source": [
        "# from https://github.com/Pseudo-Lab/Tutorial-Book-Utils\n",
        "\n",
        "def get_batch_statistics(outputs, targets, iou_threshold):\n",
        "    \"\"\" Compute true positives, predicted scores and predicted labels per sample \"\"\"\n",
        "    batch_metrics = []\n",
        "    for sample_i in range(len(outputs)):\n",
        "\n",
        "        if outputs[sample_i] is None:\n",
        "            continue\n",
        "\n",
        "        output = outputs[sample_i] # predict\n",
        "        # pred_boxes = output['boxes']\n",
        "        # pred_scores = output['scores']\n",
        "        # pred_labels = output['labels']\n",
        "\n",
        "        true_positives = torch.zeros(output['boxes'].shape[0])   # 예측 객체 개수\n",
        "\n",
        "        annotations = targets[sample_i]  # actual\n",
        "        target_labels = annotations['labels'] if len(annotations) else []\n",
        "        if len(annotations):    # len(annotations) = 3\n",
        "            detected_boxes = []\n",
        "            target_boxes = annotations['boxes']\n",
        "\n",
        "            for pred_i, (pred_box, pred_label) in enumerate(zip(output['boxes'], output['labels'])): # 예측값에 대해서..\n",
        "\n",
        "                # If targets are found break\n",
        "                if len(detected_boxes) == len(target_labels): # annotations -> target_labels\n",
        "                    break\n",
        "\n",
        "                # Ignore if label is not one of the target labels\n",
        "                if pred_label not in target_labels:\n",
        "                    continue\n",
        "\n",
        "                iou, box_index = bbox_iou(pred_box.unsqueeze(0), target_boxes).max(0)   # box_index : 실제 어떤 바운딩 박스랑 IoU 가 가장 높은지 index\n",
        "                if iou >= iou_threshold and box_index not in detected_boxes: # iou만 맞으면 통과?\n",
        "                    true_positives[pred_i] = 1\n",
        "                    detected_boxes += [box_index]  # 예측된거랑 실제랑 매핑해서 하나씩 index 채움\n",
        "        batch_metrics.append([true_positives, output['scores'], output['labels']])\n",
        "    return batch_metrics\n",
        "\n",
        "def bbox_iou(box1, box2, x1y1x2y2=True):\n",
        "    \"\"\"\n",
        "    Returns the IoU of two bounding boxes\n",
        "    \"\"\"\n",
        "    if not x1y1x2y2:\n",
        "        # Transform from center and width to exact coordinates\n",
        "        b1_x1, b1_x2 = box1[:, 0] - box1[:, 2] / 2, box1[:, 0] + box1[:, 2] / 2\n",
        "        b1_y1, b1_y2 = box1[:, 1] - box1[:, 3] / 2, box1[:, 1] + box1[:, 3] / 2\n",
        "        b2_x1, b2_x2 = box2[:, 0] - box2[:, 2] / 2, box2[:, 0] + box2[:, 2] / 2\n",
        "        b2_y1, b2_y2 = box2[:, 1] - box2[:, 3] / 2, box2[:, 1] + box2[:, 3] / 2\n",
        "    else:\n",
        "        # Get the coordinates of bounding boxes\n",
        "        b1_x1, b1_y1, b1_x2, b1_y2 = box1[:, 0], box1[:, 1], box1[:, 2], box1[:, 3]\n",
        "        b2_x1, b2_y1, b2_x2, b2_y2 = box2[:, 0], box2[:, 1], box2[:, 2], box2[:, 3]\n",
        "\n",
        "    # get the corrdinates of the intersection rectangle\n",
        "    inter_rect_x1 = torch.max(b1_x1, b2_x1)\n",
        "    inter_rect_y1 = torch.max(b1_y1, b2_y1)\n",
        "    inter_rect_x2 = torch.min(b1_x2, b2_x2)\n",
        "    inter_rect_y2 = torch.min(b1_y2, b2_y2)\n",
        "    # Intersection area\n",
        "    inter_area = torch.clamp(inter_rect_x2 - inter_rect_x1 + 1, min=0) * torch.clamp(inter_rect_y2 - inter_rect_y1 + 1, min=0)\n",
        "    # Union Area\n",
        "    b1_area = (b1_x2 - b1_x1 + 1) * (b1_y2 - b1_y1 + 1)\n",
        "    b2_area = (b2_x2 - b2_x1 + 1) * (b2_y2 - b2_y1 + 1)\n",
        "\n",
        "    iou = inter_area / (b1_area + b2_area - inter_area + 1e-16)\n",
        "\n",
        "    return iou\n",
        "def ap_per_class(tp, conf, pred_cls, target_cls):\n",
        "    \"\"\" Compute the average precision, given the recall and precision curves.\n",
        "    Source: https://github.com/rafaelpadilla/Object-Detection-Metrics.\n",
        "    # Arguments\n",
        "        tp:    True positives (list).\n",
        "        conf:  Objectness value from 0-1 (list).\n",
        "        pred_cls: Predicted object classes (list).\n",
        "        target_cls: True object classes (list).\n",
        "    # Returns\n",
        "        The average precision as computed in py-faster-rcnn.\n",
        "    \"\"\"\n",
        "\n",
        "    # Sort by objectness\n",
        "    i = torch.argsort(-conf)\n",
        "    tp, conf, pred_cls = tp[i], conf[i], pred_cls[i]\n",
        "\n",
        "    # Find unique classes\n",
        "    unique_classes = torch.unique(target_cls)   # 2가 거의 예측안됨\n",
        "\n",
        "    # Create Precision-Recall curve and compute AP for each class\n",
        "    ap, p, r = [], [], []\n",
        "    for c in unique_classes:\n",
        "        i = pred_cls == c\n",
        "        n_gt = (target_cls == c).sum()  # Number of ground truth objects\n",
        "        n_p = i.sum()  # Number of predicted objects\n",
        "\n",
        "        if n_p == 0 and n_gt == 0:\n",
        "            continue\n",
        "        elif n_p == 0 or n_gt == 0:\n",
        "            ap.append(0)\n",
        "            r.append(0)\n",
        "            p.append(0)\n",
        "        else:\n",
        "            # Accumulate FPs and TPs\n",
        "            fpc = torch.cumsum(1 - tp[i],-1)\n",
        "            tpc = torch.cumsum(tp[i],-1)\n",
        "\n",
        "            # Recall\n",
        "            recall_curve = tpc / (n_gt + 1e-16)\n",
        "            r.append(recall_curve[-1])\n",
        "\n",
        "            # Precision\n",
        "            precision_curve = tpc / (tpc + fpc)\n",
        "            p.append(precision_curve[-1])\n",
        "\n",
        "            # AP from recall-precision curve\n",
        "            ap.append(compute_ap(recall_curve, precision_curve))\n",
        "\n",
        "    # Compute F1 score (harmonic mean of precision and recall)\n",
        "    p, r, ap = torch.tensor(np.array(p)), torch.tensor(np.array(r)), torch.tensor(np.array(ap))\n",
        "    f1 = 2 * p * r / (p + r + 1e-16)\n",
        "\n",
        "    return p, r, ap, f1, unique_classes\n",
        "\n",
        "def compute_ap(recall, precision):\n",
        "    \"\"\" Compute the average precision, given the recall and precision curves.\n",
        "    Code originally from https://github.com/rbgirshick/py-faster-rcnn.\n",
        "    # Arguments\n",
        "        recall:    The recall curve (list).\n",
        "        precision: The precision curve (list).\n",
        "    # Returns\n",
        "        The average precision as computed in py-faster-rcnn.\n",
        "    \"\"\"\n",
        "    # correct AP calculation\n",
        "    # first append sentinel values at the end\n",
        "    mrec = np.concatenate(([0.0], recall, [1.0]))\n",
        "    mpre = np.concatenate(([0.0], precision, [0.0]))\n",
        "\n",
        "    # compute the precision envelope\n",
        "    for i in range(mpre.size - 1, 0, -1):\n",
        "        mpre[i - 1] = np.maximum(mpre[i - 1], mpre[i])\n",
        "\n",
        "    # to calculate area under PR curve, look for points\n",
        "    # where X axis (recall) changes value\n",
        "    i = np.where(mrec[1:] != mrec[:-1])[0]\n",
        "\n",
        "    # and sum (\\Delta recall) * prec\n",
        "    ap = np.sum((mrec[i + 1] - mrec[i]) * mpre[i + 1])\n",
        "    return ap\n"
      ],
      "metadata": {
        "id": "6qELaIPoxj0V"
      },
      "execution_count": 53,
      "outputs": []
    },
    {
      "cell_type": "code",
      "source": [],
      "metadata": {
        "id": "2trNVcw301n5"
      },
      "execution_count": null,
      "outputs": []
    },
    {
      "cell_type": "code",
      "source": [
        "sample_metrics = []\n",
        "for batch_i in range(len(preds_adj_all)):\n",
        "    sample_metrics += get_batch_statistics(preds_adj_all[batch_i], annot_all[batch_i], iou_threshold=0.5)\n",
        "\n",
        "true_positives, pred_scores, pred_labels = [torch.cat(x, 0) for x in list(zip(*sample_metrics))]  # all the batches get concatenated\n",
        "precision, recall, AP, f1, ap_class = ap_per_class(true_positives, pred_scores, pred_labels, torch.tensor(labels))\n",
        "mAP = torch.mean(AP)\n",
        "print(f'mAP : {mAP}')\n",
        "print(f'AP : {AP}')"
      ],
      "metadata": {
        "id": "bBc_Qrguxuuk",
        "outputId": "cd46676e-6de5-4ef9-94b7-a65554e3b276",
        "colab": {
          "base_uri": "https://localhost:8080/"
        }
      },
      "execution_count": 54,
      "outputs": [
        {
          "output_type": "stream",
          "name": "stdout",
          "text": [
            "mAP : 0.1638793342377361\n",
            "AP : tensor([0.1639], dtype=torch.float64)\n"
          ]
        }
      ]
    },
    {
      "cell_type": "code",
      "source": [
        "torch.mean(precision)"
      ],
      "metadata": {
        "id": "-9NbPba0TYap",
        "colab": {
          "base_uri": "https://localhost:8080/"
        },
        "outputId": "fb525715-c54d-4294-9a47-d4fcfced93b7"
      },
      "execution_count": 55,
      "outputs": [
        {
          "output_type": "execute_result",
          "data": {
            "text/plain": [
              "tensor(0.4110)"
            ]
          },
          "metadata": {},
          "execution_count": 55
        }
      ]
    }
  ],
  "metadata": {
    "colab": {
      "provenance": [],
      "machine_shape": "hm",
      "gpuType": "L4"
    },
    "kernelspec": {
      "display_name": "Python 3",
      "name": "python3"
    },
    "language_info": {
      "name": "python"
    },
    "accelerator": "GPU"
  },
  "nbformat": 4,
  "nbformat_minor": 0
}