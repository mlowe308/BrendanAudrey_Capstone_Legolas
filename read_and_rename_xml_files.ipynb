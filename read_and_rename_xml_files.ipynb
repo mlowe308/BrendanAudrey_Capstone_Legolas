{
  "nbformat": 4,
  "nbformat_minor": 0,
  "metadata": {
    "colab": {
      "provenance": []
    },
    "kernelspec": {
      "name": "python3",
      "display_name": "Python 3"
    },
    "language_info": {
      "name": "python"
    }
  },
  "cells": [
    {
      "cell_type": "code",
      "source": [
        "#imports\n",
        "from xml.etree import ElementTree as ET\n",
        "import os\n"
      ],
      "metadata": {
        "id": "AxvuitLlZUV1"
      },
      "execution_count": null,
      "outputs": []
    },
    {
      "cell_type": "code",
      "execution_count": null,
      "metadata": {
        "id": "0EOYZVIj31f7"
      },
      "outputs": [],
      "source": [
        "destination_directory = \"/content/drive/MyDrive/LEGOLAS split rewrite/\"\n",
        "current_directory = \"/content/drive/MyDrive/split/\""
      ]
    },
    {
      "cell_type": "code",
      "source": [],
      "metadata": {
        "colab": {
          "base_uri": "https://localhost:8080/"
        },
        "id": "KE-hpl-wJv34",
        "outputId": "71b12c9f-acbe-4450-e3bf-86c9a6bb79f5"
      },
      "execution_count": null,
      "outputs": [
        {
          "output_type": "stream",
          "name": "stdout",
          "text": [
            "rm: cannot remove './drive/MyDrive/LEGOLAS_split_rewrite/*': No such file or directory\n"
          ]
        }
      ]
    },
    {
      "cell_type": "code",
      "source": [
        "filename = \"annotations-0001.xml\""
      ],
      "metadata": {
        "id": "CXdS_vQHkwhD"
      },
      "execution_count": null,
      "outputs": []
    },
    {
      "cell_type": "code",
      "source": [
        "tree = ET.parse(os.path.join(current_directory, filename))\n",
        "root = tree.getroot()"
      ],
      "metadata": {
        "id": "tkpFnuJikw1S"
      },
      "execution_count": null,
      "outputs": []
    },
    {
      "cell_type": "code",
      "source": [
        "root.tag"
      ],
      "metadata": {
        "colab": {
          "base_uri": "https://localhost:8080/",
          "height": 35
        },
        "id": "1FIq7Bf9mcUo",
        "outputId": "7e7da7d1-4bd0-4c71-872d-c98ca6b3ebd2"
      },
      "execution_count": null,
      "outputs": [
        {
          "output_type": "execute_result",
          "data": {
            "text/plain": [
              "'annotations'"
            ],
            "application/vnd.google.colaboratory.intrinsic+json": {
              "type": "string"
            }
          },
          "metadata": {},
          "execution_count": 50
        }
      ]
    },
    {
      "cell_type": "code",
      "source": [
        "root[0][0].get('label')"
      ],
      "metadata": {
        "colab": {
          "base_uri": "https://localhost:8080/",
          "height": 35
        },
        "id": "i9QEy9Fkw3yw",
        "outputId": "5e08f3d4-6686-43d2-ec44-124bc8c3166e"
      },
      "execution_count": null,
      "outputs": [
        {
          "output_type": "execute_result",
          "data": {
            "text/plain": [
              "'Tray Well'"
            ],
            "application/vnd.google.colaboratory.intrinsic+json": {
              "type": "string"
            }
          },
          "metadata": {},
          "execution_count": 51
        }
      ]
    },
    {
      "cell_type": "code",
      "source": [
        "for i in root[0]:\n",
        "  print(i.tag, i.attrib)"
      ],
      "metadata": {
        "colab": {
          "base_uri": "https://localhost:8080/"
        },
        "id": "5TPBYcuC3bgw",
        "outputId": "01ee67aa-d21a-4336-d684-166f4e1b5dc8"
      },
      "execution_count": null,
      "outputs": [
        {
          "output_type": "stream",
          "name": "stdout",
          "text": [
            "ellipse {'label': 'Tray Well', 'source': 'manual', 'occluded': '0', 'cx': '591.61', 'cy': '490.87', 'rx': '129.14', 'ry': '128.18', 'z_order': '0'}\n",
            "ellipse {'label': 'Tray Well', 'source': 'manual', 'occluded': '0', 'cx': '594.61', 'cy': '207.84', 'rx': '126.05', 'ry': '126.10', 'z_order': '0'}\n",
            "ellipse {'label': 'Tray Well', 'source': 'manual', 'occluded': '0', 'cx': '312.92', 'cy': '208.04', 'rx': '126.05', 'ry': '126.10', 'z_order': '0'}\n",
            "ellipse {'label': 'Tray Well', 'source': 'manual', 'occluded': '0', 'cx': '307.73', 'cy': '481.51', 'rx': '127.07', 'ry': '127.16', 'z_order': '0'}\n",
            "ellipse {'label': 'Tray Well', 'source': 'manual', 'occluded': '0', 'cx': '862.02', 'cy': '207.52', 'rx': '129.14', 'ry': '128.18', 'z_order': '0'}\n",
            "ellipse {'label': 'Tray Well', 'source': 'manual', 'occluded': '0', 'cx': '585.75', 'cy': '-74.30', 'rx': '129.14', 'ry': '128.18', 'z_order': '0'}\n",
            "ellipse {'label': 'Tray Well', 'source': 'manual', 'occluded': '0', 'cx': '872.38', 'cy': '-53.20', 'rx': '129.14', 'ry': '128.18', 'z_order': '0'}\n",
            "ellipse {'label': 'Tray Well', 'source': 'manual', 'occluded': '0', 'cx': '304.31', 'cy': '-79.10', 'rx': '129.14', 'ry': '128.18', 'z_order': '0'}\n",
            "ellipse {'label': 'Tray Well', 'source': 'manual', 'occluded': '0', 'cx': '883.98', 'cy': '789.56', 'rx': '129.14', 'ry': '128.18', 'z_order': '0'}\n",
            "ellipse {'label': 'Tray Well', 'source': 'manual', 'occluded': '0', 'cx': '879.29', 'cy': '488.97', 'rx': '129.14', 'ry': '128.18', 'z_order': '0'}\n"
          ]
        }
      ]
    },
    {
      "cell_type": "code",
      "source": [
        "data = ET.Element('annotation')\n",
        "for i in root[0]:\n",
        "  object = ET.SubElement(data, 'object')\n",
        "  name = ET.SubElement(object, 'name')\n",
        "  name.text = i.get('label')\n",
        "\n",
        "  box = ET.SubElement(object, 'bndbox')\n",
        "  xmin = ET.SubElement(box, 'xmin')\n",
        "  xmax = ET.SubElement(box, 'xmax')\n",
        "  ymin = ET.SubElement(box, 'ymin')\n",
        "  ymax = ET.SubElement(box, 'ymax')\n",
        "\n",
        "  cx = float(i.get('cx'))\n",
        "  cy = float(i.get('cy'))\n",
        "  rx = float(i.get('rx'))\n",
        "  ry = float(i.get('ry'))\n",
        "\n",
        "  radius = int((rx + ry)/2) + 5\n",
        "  x = int(cx - radius)\n",
        "  y = int(cy - radius)\n",
        "\n",
        "  xmin.text = str(x)\n",
        "  xmax.text = str(x + 2*radius)\n",
        "  ymin.text = str(y)\n",
        "  ymax.text = str(y + 2*radius)\n",
        "\n",
        "\n"
      ],
      "metadata": {
        "id": "p7Evt49Y5NpS"
      },
      "execution_count": null,
      "outputs": []
    },
    {
      "cell_type": "code",
      "source": [
        "b_xml = ET.tostring(data)\n",
        "b_xml"
      ],
      "metadata": {
        "colab": {
          "base_uri": "https://localhost:8080/"
        },
        "id": "3Xfslh3v7RKF",
        "outputId": "2a3ed74b-2b36-435c-add7-e7640eefc53e"
      },
      "execution_count": null,
      "outputs": [
        {
          "output_type": "execute_result",
          "data": {
            "text/plain": [
              "b'<annotation><object><name>Tray Well</name><bndbox><xmin>58</xmin><xmax>288.53999999999996</xmax><ymin>425</ymin><ymax>652.86</ymax></bndbox></object></annotation>'"
            ]
          },
          "metadata": {},
          "execution_count": 73
        }
      ]
    },
    {
      "cell_type": "code",
      "source": [
        "name = root[0].attrib.get('name')\n",
        "name = name.split(\".\")[0]\n",
        "name = name + \".xml\"\n",
        "name"
      ],
      "metadata": {
        "colab": {
          "base_uri": "https://localhost:8080/",
          "height": 35
        },
        "id": "jr6hfrzzvkkJ",
        "outputId": "700a13aa-9443-428b-bb6d-db157a8a61aa"
      },
      "execution_count": null,
      "outputs": [
        {
          "output_type": "execute_result",
          "data": {
            "text/plain": [
              "'cropped_rot_neg_15_33.xml'"
            ],
            "application/vnd.google.colaboratory.intrinsic+json": {
              "type": "string"
            }
          },
          "metadata": {},
          "execution_count": 74
        }
      ]
    },
    {
      "cell_type": "code",
      "source": [
        "with open(os.path.join(destination_directory, name), \"wb\") as f:\n",
        "    f.write(b_xml)"
      ],
      "metadata": {
        "id": "LQcjhIOg75Gk"
      },
      "execution_count": null,
      "outputs": []
    },
    {
      "cell_type": "code",
      "source": [
        "for file in os.listdir(current_directory):\n",
        "  if file.endswith(\".xml\"):\n",
        "    tree = ET.parse(os.path.join(current_directory, file))\n",
        "    root = tree.getroot()\n",
        "\n",
        "    data = ET.Element('annotation')\n",
        "    for i in root[0]:\n",
        "      object = ET.SubElement(data, 'object')\n",
        "      name = ET.SubElement(object, 'name')\n",
        "      name.text = i.get('label')\n",
        "\n",
        "      box = ET.SubElement(object, 'bndbox')\n",
        "      xmin = ET.SubElement(box, 'xmin')\n",
        "      xmax = ET.SubElement(box, 'xmax')\n",
        "      ymin = ET.SubElement(box, 'ymin')\n",
        "      ymax = ET.SubElement(box, 'ymax')\n",
        "\n",
        "      cx = float(i.get('cx'))\n",
        "      cy = float(i.get('cy'))\n",
        "      rx = float(i.get('rx'))\n",
        "      ry = float(i.get('ry'))\n",
        "\n",
        "      radius = int((rx + ry)/2) + 5\n",
        "      x = int(cx - radius)\n",
        "      y = int(cy - radius)\n",
        "\n",
        "      diameter = radius * 2\n",
        "\n",
        "      xmin.text = str(x)\n",
        "      xmax.text = str(x + diameter)\n",
        "      ymin.text = str(y)\n",
        "      ymax.text = str(y + diameter)\n",
        "\n",
        "    name = root[0].attrib.get('name')\n",
        "    name = name.split(\".\")[0]\n",
        "    name = name + \".xml\"\n",
        "\n",
        "    b_xml = ET.tostring(data)\n",
        "    with open(os.path.join(destination_directory, name), \"wb\") as f:\n",
        "        f.write(b_xml)\n",
        "\n"
      ],
      "metadata": {
        "id": "kYD1886Hyrpz"
      },
      "execution_count": null,
      "outputs": []
    },
    {
      "cell_type": "code",
      "source": [
        "print(len(os.listdir(destination_directory)))"
      ],
      "metadata": {
        "colab": {
          "base_uri": "https://localhost:8080/"
        },
        "id": "dPHFgF9g3rh1",
        "outputId": "3b49d57a-1da0-452a-b36c-015e3e8bf630"
      },
      "execution_count": null,
      "outputs": [
        {
          "output_type": "stream",
          "name": "stdout",
          "text": [
            "1728\n"
          ]
        }
      ]
    }
  ]
}